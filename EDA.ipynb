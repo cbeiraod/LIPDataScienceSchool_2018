{
 "cells": [
  {
   "cell_type": "markdown",
   "metadata": {},
   "source": [
    "# Exploratory Data Analysis"
   ]
  },
  {
   "cell_type": "markdown",
   "metadata": {},
   "source": [
    "This is a small exploratory notebook to take a first look at the data and the relations between the features\n",
    "\n",
    "-----------\n",
    "\n",
    "\n",
    "First import the needed libraries"
   ]
  },
  {
   "cell_type": "code",
   "execution_count": null,
   "metadata": {},
   "outputs": [],
   "source": [
    "import keras, ROOT, sklearn\n",
    "print keras.__version__\n",
    "import flat_helper\n",
    "import numpy as np\n",
    "import pandas as pd\n",
    "from sklearn.model_selection import train_test_split\n",
    "\n",
    "# from keras_tqdm import TQDMNotebookCallback # uncomment this to get the progress bar\n",
    "#import theano\n",
    "#theano.config.gcc.cxxflags = '-march=corei7' \n",
    "\n",
    "## For plotting stuff\n",
    "import matplotlib.pyplot as plt\n",
    "import seaborn as sns\n",
    "sns.set() # cosmetics\n",
    "from pandas.plotting import scatter_matrix\n",
    "from sklearn.decomposition import PCA"
   ]
  },
  {
   "cell_type": "markdown",
   "metadata": {
    "collapsed": true
   },
   "source": [
    "Then load the data"
   ]
  },
  {
   "cell_type": "code",
   "execution_count": null,
   "metadata": {},
   "outputs": [],
   "source": [
    "dfQuarks = flat_helper.GetJetShapesFast('/eos/user/c/cbeiraod/DataScienceSchool/Data Challenge/quarks_standard', 20000, recompute=False)\n",
    "dfGluons = flat_helper.GetJetShapesFast('/eos/user/c/cbeiraod/DataScienceSchool/Data Challenge/gluons_standard', 20000, recompute=False)\n",
    "\n",
    "dfQuarksModified = flat_helper.GetJetShapesFast('/eos/user/c/cbeiraod/DataScienceSchool/Data Challenge/quarks_modified', 20000, recompute=False)\n",
    "dfGluonsModified = flat_helper.GetJetShapesFast('/eos/user/c/cbeiraod/DataScienceSchool/Data Challenge/gluons_modified', 20000, recompute=False)\n",
    "\n",
    "dfQuarks['isGluon'] = 0\n",
    "dfGluons['isGluon'] = 1\n",
    "\n",
    "dfQuarksModified['isGluon'] = 0\n",
    "dfGluonsModified['isGluon'] = 1\n",
    "\n",
    "inputData = pd.concat([dfQuarks, dfGluons])\n",
    "inputDataTest = pd.concat([dfQuarksModified, dfGluonsModified])\n",
    "\n",
    "seed = 42\n",
    "inputDataTrain, inputDataValidation = train_test_split(inputData, random_state=seed)\n",
    "\n",
    "labels = inputData.isGluon\n",
    "inputData = inputData.drop('isGluon',axis=1)\n",
    "\n",
    "labelsTrain = inputDataTrain.isGluon\n",
    "inputDataTrain = inputDataTrain.drop('isGluon',axis=1)\n",
    "\n",
    "labelsValidation = inputDataValidation.isGluon\n",
    "inputDataValidation = inputDataValidation.drop('isGluon',axis=1)\n",
    "\n",
    "labelsTest = inputDataTest.isGluon\n",
    "inputDataTest = inputDataTest.drop('isGluon',axis=1)"
   ]
  },
  {
   "cell_type": "markdown",
   "metadata": {},
   "source": [
    "## Exploration"
   ]
  },
  {
   "cell_type": "markdown",
   "metadata": {},
   "source": [
    "Take a look at the information such as which branches, how many entries and the data type"
   ]
  },
  {
   "cell_type": "code",
   "execution_count": null,
   "metadata": {},
   "outputs": [],
   "source": [
    "print \"Shape: \", dfQuarks.shape\n",
    "dfQuarks.info()\n",
    "\n",
    "#print \"Shape: \", dfGluons.shape\n",
    "#dfGluons.info()"
   ]
  },
  {
   "cell_type": "markdown",
   "metadata": {},
   "source": [
    "Look at the first \"nevt\" events for quarks and gluons, see some values of the features"
   ]
  },
  {
   "cell_type": "code",
   "execution_count": null,
   "metadata": {},
   "outputs": [],
   "source": [
    "nevt=6\n",
    "dfQuarks.head(nevt)"
   ]
  },
  {
   "cell_type": "code",
   "execution_count": null,
   "metadata": {},
   "outputs": [],
   "source": [
    "dfGluons.head(nevt)\n",
    "# As an alternative, we can look at the last \"nevt\" events\n",
    "#dfGluons.tail(nevt)\n",
    "# Or randomly sample:\n",
    "#dfGluons.sample(nevt)"
   ]
  },
  {
   "cell_type": "markdown",
   "metadata": {},
   "source": [
    "Now we will ask for a description of the datasets, this will give us some statistical information of each feature (mean, min, max, etc)"
   ]
  },
  {
   "cell_type": "code",
   "execution_count": null,
   "metadata": {},
   "outputs": [],
   "source": [
    "dfQuarks.describe()"
   ]
  },
  {
   "cell_type": "code",
   "execution_count": null,
   "metadata": {},
   "outputs": [],
   "source": [
    "dfGluons.describe()"
   ]
  },
  {
   "cell_type": "markdown",
   "metadata": {},
   "source": [
    "Test some assumptions on the data"
   ]
  },
  {
   "cell_type": "code",
   "execution_count": null,
   "metadata": {},
   "outputs": [],
   "source": [
    "dfQuarks.query('mass < 2.5')"
   ]
  },
  {
   "cell_type": "code",
   "execution_count": null,
   "metadata": {},
   "outputs": [],
   "source": [
    "dfQuarks.query('radial == dispersion')\n"
   ]
  },
  {
   "cell_type": "markdown",
   "metadata": {},
   "source": [
    "### Visualization"
   ]
  },
  {
   "cell_type": "markdown",
   "metadata": {},
   "source": [
    "Box plot of the stat information"
   ]
  },
  {
   "cell_type": "code",
   "execution_count": null,
   "metadata": {
    "collapsed": true
   },
   "outputs": [],
   "source": [
    "dfQuarks.drop('isGluon',axis=1).plot(kind='box', subplots=True, sharex=False, sharey=False)\n",
    "plt.subplots_adjust(wspace=0.6)\n",
    "plt.suptitle(\"Quarks\")\n",
    "plt.show()\n",
    "dfGluons.drop('isGluon',axis=1).plot(kind='box', subplots=True, sharex=False, sharey=False)\n",
    "plt.subplots_adjust(wspace=0.6)\n",
    "plt.suptitle(\"Gluons\")\n",
    "plt.show()"
   ]
  },
  {
   "cell_type": "markdown",
   "metadata": {},
   "source": [
    "Plot some 1D histograms"
   ]
  },
  {
   "cell_type": "code",
   "execution_count": null,
   "metadata": {
    "collapsed": true
   },
   "outputs": [],
   "source": [
    "fig, ax = plt.subplots(1,2)\n",
    "\n",
    "ax[0].hist(dfQuarks.mass, 30, alpha=0.5, label=\"Quarks\")\n",
    "ax[0].hist(dfGluons.mass, 30, alpha=0.5, label=\"Gluons\")\n",
    "ax[1].hist(dfQuarks.radial, 30, alpha=0.5, label=\"Quarks\")\n",
    "ax[1].hist(dfGluons.radial, 30, alpha=0.5, label=\"Gluons\")\n",
    "\n",
    "fig.subplots_adjust(left=0, right=1, bottom=0, top=0.5, hspace=0.05, wspace=1)\n",
    "ax[0].set_xlabel(\"Jet mass\")\n",
    "ax[0].set_ylabel(\"Frequency\")\n",
    "ax[1].set_xlabel(\"Jet radial xxxx\")\n",
    "ax[1].set_ylabel(\"Frequency\")\n",
    "\n",
    "ax[0].legend()\n",
    "ax[1].legend()\n",
    "\n",
    "plt.show()"
   ]
  },
  {
   "cell_type": "markdown",
   "metadata": {},
   "source": [
    "Or plot all at the same time"
   ]
  },
  {
   "cell_type": "code",
   "execution_count": null,
   "metadata": {
    "collapsed": true
   },
   "outputs": [],
   "source": [
    "dfQuarks.drop('isGluon',axis=1).hist()\n",
    "plt.subplots_adjust(hspace=0.45, wspace=1)\n",
    "plt.suptitle(\"Quarks\")\n",
    "plt.show()\n",
    "dfGluons.drop('isGluon',axis=1).hist()\n",
    "plt.subplots_adjust(hspace=0.45, wspace=1)\n",
    "plt.suptitle(\"Gluons\")\n",
    "plt.show()"
   ]
  },
  {
   "cell_type": "markdown",
   "metadata": {},
   "source": [
    "Plot some 2D scatter plots"
   ]
  },
  {
   "cell_type": "code",
   "execution_count": null,
   "metadata": {
    "collapsed": true
   },
   "outputs": [],
   "source": [
    "fig, ax = plt.subplots(1,2, figsize=(8,4))\n",
    "\n",
    "ax[0].scatter(dfQuarks.mass, dfQuarks.radial)\n",
    "ax[1].scatter(dfGluons.mass, dfGluons.radial)\n",
    "\n",
    "ax[0].set_title(\"Quarks\")\n",
    "ax[1].set_title(\"Gluons\")\n",
    "ax[0].set_xlabel(\"Jet mass\")\n",
    "ax[1].set_xlabel(\"Jet mass\")\n",
    "ax[0].set_ylabel(\"Jet radial xxxx\")\n",
    "ax[1].set_ylabel(\"Jet radial xxxx\")\n",
    "fig.subplots_adjust(wspace=0.5)\n",
    "fig.suptitle(\"Jet mass vs radial xxxx\")\n",
    "\n",
    "plt.show()"
   ]
  },
  {
   "cell_type": "markdown",
   "metadata": {},
   "source": [
    "Or plot all combinations simultaneously"
   ]
  },
  {
   "cell_type": "code",
   "execution_count": null,
   "metadata": {
    "collapsed": true
   },
   "outputs": [],
   "source": [
    "scatter_matrix(dfQuarks.drop('isGluon',axis=1))\n",
    "plt.subplots_adjust(hspace=0.1, wspace=0.1)\n",
    "plt.suptitle(\"Quarks\")\n",
    "plt.show()\n",
    "scatter_matrix(dfGluons.drop('isGluon',axis=1))\n",
    "plt.subplots_adjust(hspace=0.1, wspace=0.1)\n",
    "plt.suptitle(\"Gluons\")\n",
    "plt.show()"
   ]
  },
  {
   "cell_type": "markdown",
   "metadata": {},
   "source": [
    "Remove outliers"
   ]
  },
  {
   "cell_type": "code",
   "execution_count": null,
   "metadata": {
    "collapsed": true
   },
   "outputs": [],
   "source": [
    "dfQuarks = dfQuarks.drop(dfQuarks.query('dispersion == 0').index.get_values())\n",
    "dfGluons = dfGluons.drop(dfGluons.query('dispersion == 0').index.get_values())\n",
    "\n",
    "inputData = pd.concat([dfQuarks, dfGluons])\n",
    "\n",
    "inputDataTrain, inputDataValidation = train_test_split(inputData, random_state=42)\n",
    "\n",
    "labels = inputData.isGluon\n",
    "inputData = inputData.drop('isGluon',axis=1)\n",
    "\n",
    "labelsTrain = inputDataTrain.isGluon\n",
    "inputDataTrain = inputDataTrain.drop('isGluon',axis=1)\n",
    "\n",
    "labelsValidation = inputDataValidation.isGluon\n",
    "inputDataValidation = inputDataValidation.drop('isGluon',axis=1)"
   ]
  },
  {
   "cell_type": "markdown",
   "metadata": {},
   "source": [
    "Get the correlation matrix"
   ]
  },
  {
   "cell_type": "code",
   "execution_count": null,
   "metadata": {
    "collapsed": true
   },
   "outputs": [],
   "source": [
    "corrQuarks = dfQuarks.drop('isGluon',axis=1).corr()\n",
    "sns.heatmap(corrQuarks,\n",
    "            xticklabels=corrQuarks.columns.values,\n",
    "            yticklabels=corrQuarks.columns.values)\n",
    "sns.plt.show()"
   ]
  },
  {
   "cell_type": "code",
   "execution_count": null,
   "metadata": {
    "collapsed": true
   },
   "outputs": [],
   "source": [
    "corrGluons = dfGluons.drop('isGluon',axis=1).corr()\n",
    "sns.heatmap(corrGluons,\n",
    "            xticklabels=corrGluons.columns.values,\n",
    "            yticklabels=corrGluons.columns.values)\n",
    "sns.plt.show()"
   ]
  },
  {
   "cell_type": "markdown",
   "metadata": {},
   "source": [
    "#### Dimensionality Reduction"
   ]
  },
  {
   "cell_type": "markdown",
   "metadata": {
    "collapsed": true
   },
   "source": [
    "Start with PCA to only two dimensions"
   ]
  },
  {
   "cell_type": "code",
   "execution_count": null,
   "metadata": {
    "collapsed": true
   },
   "outputs": [],
   "source": [
    "pca = PCA(n_components=2)\n",
    "reduced_data = pca.fit_transform(inputData)\n",
    "print \"Shape: \", reduced_data.shape"
   ]
  },
  {
   "cell_type": "code",
   "execution_count": null,
   "metadata": {
    "collapsed": true
   },
   "outputs": [],
   "source": [
    "plt.scatter(reduced_data[:,0], reduced_data[:,1], c=labels, cmap='viridis')\n",
    "\n",
    "plt.show()"
   ]
  },
  {
   "cell_type": "markdown",
   "metadata": {},
   "source": [
    "## Support Vector Machine"
   ]
  },
  {
   "cell_type": "markdown",
   "metadata": {},
   "source": [
    "## Basic Neural Network"
   ]
  },
  {
   "cell_type": "code",
   "execution_count": null,
   "metadata": {},
   "outputs": [],
   "source": [
    "from keras.models import Sequential\n",
    "from keras.layers import Dense\n",
    "\n",
    "nIn = len(inputDataTrain.columns)\n",
    "\n",
    "XTrain = inputDataTrain.loc[:,:]\n",
    "XVal = inputDataValidation.loc[:,:]\n",
    "YTrain = np.ravel(labelsTrain)\n",
    "YVal = np.ravel(labelsTest)\n",
    "\n",
    "neurons = input_dim + 3 \n",
    "# create model\n",
    "model = Sequential()\n",
    "model.add(Dense(neurons,input_dim=nIn, kernel_initializer='he_normal', activation='relu'))\n",
    "model.add(Dense(neurons, kernel_initializer='he_normal', activation='relu'))\n",
    "model.add(Dense(1, activation=\"sigmoid\", kernel_initializer='glorot_normal'))\n",
    "# Compile model          \n",
    "model.compile(loss='binary_crossentropy', optimizer='adam', metrics=['accuracy'])\n",
    "# Fit the model\n",
    "model.fit(XTrain, YTrain, validation_data=(XVal, YVal), epochs=10, batch_size=50, verbose=2)\n",
    "# calculate predictions\n",
    "#predictions = model.predict(XTrain)\n",
    "# round predictions\n",
    "#rounded = [round(x[0]) for x in predictions]\n",
    "#print(rounded)"
   ]
  },
  {
   "cell_type": "markdown",
   "metadata": {},
   "source": [
    "## Deep Belief Neural Network"
   ]
  },
  {
   "cell_type": "markdown",
   "metadata": {},
   "source": [
    "## Ideas on decorrelating the input variables"
   ]
  },
  {
   "cell_type": "code",
   "execution_count": null,
   "metadata": {
    "collapsed": true
   },
   "outputs": [],
   "source": [
    "import scipy.linalg as la\n",
    "\n",
    "print corrGluons\n",
    "#print numpy.sqrt(corrGluons,dtype='complex128') # This is doing the square root of individual matrix elements\n",
    "print la.cholesky(corrGluons)\n",
    "print la.inv(la.cholesky(corrGluons))\n",
    "\n",
    "dfGluonsDecorr = dfGluons.drop('isGluon',axis=1).dot(la.inv(la.cholesky(corrGluons).T))\n",
    "\n",
    "dfGluonsDecorr.corr()\n"
   ]
  },
  {
   "cell_type": "markdown",
   "metadata": {
    "collapsed": true
   },
   "source": [
    "## Compare all ML Methods using ROC curves"
   ]
  },
  {
   "cell_type": "code",
   "execution_count": null,
   "metadata": {
    "collapsed": true
   },
   "outputs": [],
   "source": []
  }
 ],
 "metadata": {
  "kernelspec": {
   "display_name": "Python 2",
   "language": "python",
   "name": "python2"
  },
  "language_info": {
   "codemirror_mode": {
    "name": "ipython",
    "version": 2
   },
   "file_extension": ".py",
   "mimetype": "text/x-python",
   "name": "python",
   "nbconvert_exporter": "python",
   "pygments_lexer": "ipython2",
   "version": "2.7.13"
  }
 },
 "nbformat": 4,
 "nbformat_minor": 2
}
