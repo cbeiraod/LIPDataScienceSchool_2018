{
 "cells": [
  {
   "cell_type": "markdown",
   "metadata": {},
   "source": [
    "# Exploratory Data Analysis"
   ]
  },
  {
   "cell_type": "markdown",
   "metadata": {},
   "source": [
    "This is a small exploratory notebook to take a first look at the data and the relations between the features\n",
    "\n",
    "-----------\n",
    "\n",
    "\n",
    "First import the needed libraries"
   ]
  },
  {
   "cell_type": "code",
   "execution_count": 59,
   "metadata": {
    "collapsed": true
   },
   "outputs": [],
   "source": [
    "import keras, ROOT, sklearn\n",
    "import flat_helper\n",
    "import numpy as np\n",
    "import pandas as pd\n",
    "from sklearn.model_selection import train_test_split\n",
    "\n",
    "# from keras_tqdm import TQDMNotebookCallback # uncomment this to get the progress bar\n",
    "#import theano\n",
    "#theano.config.gcc.cxxflags = '-march=corei7' \n",
    "\n",
    "## For plotting stuff\n",
    "import matplotlib.pyplot as plt\n",
    "import seaborn as sns\n",
    "sns.set() # cosmetics\n",
    "from pandas.plotting import scatter_matrix\n",
    "from sklearn.decomposition import PCA"
   ]
  },
  {
   "cell_type": "markdown",
   "metadata": {
    "collapsed": true
   },
   "source": [
    "Then load the data"
   ]
  },
  {
   "cell_type": "code",
   "execution_count": 74,
   "metadata": {},
   "outputs": [
    {
     "name": "stdout",
     "output_type": "stream",
     "text": [
      "Loading from root file _eos_user_c_cbeiraod_DataScienceSchool_Data Challenge_quarks_standard_shapes.root\n",
      "Loading from root file _eos_user_c_cbeiraod_DataScienceSchool_Data Challenge_gluons_standard_shapes.root\n"
     ]
    }
   ],
   "source": [
    "dfQuarks = flat_helper.GetJetShapesFast('/eos/user/c/cbeiraod/DataScienceSchool/Data Challenge/quarks_standard', 20000, recompute=False)\n",
    "dfGluons = flat_helper.GetJetShapesFast('/eos/user/c/cbeiraod/DataScienceSchool/Data Challenge/gluons_standard', 20000, recompute=False)\n",
    "\n",
    "dfQuarks['isGluon'] = 0\n",
    "dfGluons['isGluon'] = 1\n",
    "\n",
    "inputData = pd.concat([dfQuarks, dfGluons])\n",
    "\n",
    "inputDataTrain, inputDataValidation = train_test_split(inputData, random_state=42)\n",
    "\n",
    "labels = inputData.isGluon\n",
    "inputData = inputData.drop('isGluon',axis=1)\n",
    "\n",
    "labelsTrain = inputDataTrain.isGluon\n",
    "inputDataTrain = inputDataTrain.drop('isGluon',axis=1)\n",
    "\n",
    "labelsValidation = inputDataValidation.isGluon\n",
    "inputDataValidation = inputDataValidation.drop('isGluon',axis=1)"
   ]
  },
  {
   "cell_type": "markdown",
   "metadata": {},
   "source": [
    "## Exploration"
   ]
  },
  {
   "cell_type": "markdown",
   "metadata": {},
   "source": [
    "Take a look at the information such as which branches, how many entries and the data type"
   ]
  },
  {
   "cell_type": "code",
   "execution_count": 20,
   "metadata": {},
   "outputs": [
    {
     "name": "stdout",
     "output_type": "stream",
     "text": [
      "Shape:  (20000, 6)\n",
      "<class 'pandas.core.frame.DataFrame'>\n",
      "RangeIndex: 20000 entries, 0 to 19999\n",
      "Data columns (total 6 columns):\n",
      "mass          20000 non-null float32\n",
      "ntowers       20000 non-null float32\n",
      "radial        20000 non-null float32\n",
      "dispersion    20000 non-null float32\n",
      "ntracks       20000 non-null float32\n",
      "isGluon       20000 non-null int64\n",
      "dtypes: float32(5), int64(1)\n",
      "memory usage: 546.9 KB\n"
     ]
    }
   ],
   "source": [
    "print \"Shape: \", dfQuarks.shape\n",
    "dfQuarks.info()\n",
    "\n",
    "#print \"Shape: \", dfGluons.shape\n",
    "#dfGluons.info()"
   ]
  },
  {
   "cell_type": "markdown",
   "metadata": {},
   "source": [
    "Look at the first \"nevt\" events for quarks and gluons, see some values of the features"
   ]
  },
  {
   "cell_type": "code",
   "execution_count": 21,
   "metadata": {},
   "outputs": [
    {
     "data": {
      "text/html": [
       "<div>\n",
       "<style scoped>\n",
       "    .dataframe tbody tr th:only-of-type {\n",
       "        vertical-align: middle;\n",
       "    }\n",
       "\n",
       "    .dataframe tbody tr th {\n",
       "        vertical-align: top;\n",
       "    }\n",
       "\n",
       "    .dataframe thead th {\n",
       "        text-align: right;\n",
       "    }\n",
       "</style>\n",
       "<table border=\"1\" class=\"dataframe\">\n",
       "  <thead>\n",
       "    <tr style=\"text-align: right;\">\n",
       "      <th></th>\n",
       "      <th>mass</th>\n",
       "      <th>ntowers</th>\n",
       "      <th>radial</th>\n",
       "      <th>dispersion</th>\n",
       "      <th>ntracks</th>\n",
       "      <th>isGluon</th>\n",
       "    </tr>\n",
       "  </thead>\n",
       "  <tbody>\n",
       "    <tr>\n",
       "      <th>0</th>\n",
       "      <td>12.185929</td>\n",
       "      <td>11.0</td>\n",
       "      <td>0.045043</td>\n",
       "      <td>0.384206</td>\n",
       "      <td>1.401298e-44</td>\n",
       "      <td>0</td>\n",
       "    </tr>\n",
       "    <tr>\n",
       "      <th>1</th>\n",
       "      <td>5.329337</td>\n",
       "      <td>13.0</td>\n",
       "      <td>0.016920</td>\n",
       "      <td>0.436819</td>\n",
       "      <td>8.407791e-45</td>\n",
       "      <td>0</td>\n",
       "    </tr>\n",
       "    <tr>\n",
       "      <th>2</th>\n",
       "      <td>6.688938</td>\n",
       "      <td>3.0</td>\n",
       "      <td>0.026399</td>\n",
       "      <td>0.509502</td>\n",
       "      <td>1.121039e-44</td>\n",
       "      <td>0</td>\n",
       "    </tr>\n",
       "    <tr>\n",
       "      <th>3</th>\n",
       "      <td>8.983985</td>\n",
       "      <td>11.0</td>\n",
       "      <td>0.027306</td>\n",
       "      <td>0.405769</td>\n",
       "      <td>1.261169e-44</td>\n",
       "      <td>0</td>\n",
       "    </tr>\n",
       "    <tr>\n",
       "      <th>4</th>\n",
       "      <td>24.100706</td>\n",
       "      <td>12.0</td>\n",
       "      <td>0.111171</td>\n",
       "      <td>0.362364</td>\n",
       "      <td>1.541428e-44</td>\n",
       "      <td>0</td>\n",
       "    </tr>\n",
       "    <tr>\n",
       "      <th>5</th>\n",
       "      <td>6.914141</td>\n",
       "      <td>11.0</td>\n",
       "      <td>0.011104</td>\n",
       "      <td>0.563266</td>\n",
       "      <td>7.006492e-45</td>\n",
       "      <td>0</td>\n",
       "    </tr>\n",
       "  </tbody>\n",
       "</table>\n",
       "</div>"
      ],
      "text/plain": [
       "        mass  ntowers    radial  dispersion       ntracks  isGluon\n",
       "0  12.185929     11.0  0.045043    0.384206  1.401298e-44        0\n",
       "1   5.329337     13.0  0.016920    0.436819  8.407791e-45        0\n",
       "2   6.688938      3.0  0.026399    0.509502  1.121039e-44        0\n",
       "3   8.983985     11.0  0.027306    0.405769  1.261169e-44        0\n",
       "4  24.100706     12.0  0.111171    0.362364  1.541428e-44        0\n",
       "5   6.914141     11.0  0.011104    0.563266  7.006492e-45        0"
      ]
     },
     "execution_count": 21,
     "metadata": {},
     "output_type": "execute_result"
    }
   ],
   "source": [
    "nevt=6\n",
    "dfQuarks.head(nevt)"
   ]
  },
  {
   "cell_type": "code",
   "execution_count": 22,
   "metadata": {},
   "outputs": [
    {
     "data": {
      "text/html": [
       "<div>\n",
       "<style scoped>\n",
       "    .dataframe tbody tr th:only-of-type {\n",
       "        vertical-align: middle;\n",
       "    }\n",
       "\n",
       "    .dataframe tbody tr th {\n",
       "        vertical-align: top;\n",
       "    }\n",
       "\n",
       "    .dataframe thead th {\n",
       "        text-align: right;\n",
       "    }\n",
       "</style>\n",
       "<table border=\"1\" class=\"dataframe\">\n",
       "  <thead>\n",
       "    <tr style=\"text-align: right;\">\n",
       "      <th></th>\n",
       "      <th>mass</th>\n",
       "      <th>ntowers</th>\n",
       "      <th>radial</th>\n",
       "      <th>dispersion</th>\n",
       "      <th>ntracks</th>\n",
       "      <th>isGluon</th>\n",
       "    </tr>\n",
       "  </thead>\n",
       "  <tbody>\n",
       "    <tr>\n",
       "      <th>0</th>\n",
       "      <td>14.367233</td>\n",
       "      <td>14.0</td>\n",
       "      <td>0.054968</td>\n",
       "      <td>0.353077</td>\n",
       "      <td>2.382207e-44</td>\n",
       "      <td>1</td>\n",
       "    </tr>\n",
       "    <tr>\n",
       "      <th>1</th>\n",
       "      <td>10.668119</td>\n",
       "      <td>11.0</td>\n",
       "      <td>0.029878</td>\n",
       "      <td>0.555024</td>\n",
       "      <td>1.121039e-44</td>\n",
       "      <td>1</td>\n",
       "    </tr>\n",
       "    <tr>\n",
       "      <th>2</th>\n",
       "      <td>12.146415</td>\n",
       "      <td>13.0</td>\n",
       "      <td>0.034733</td>\n",
       "      <td>0.390114</td>\n",
       "      <td>2.242078e-44</td>\n",
       "      <td>1</td>\n",
       "    </tr>\n",
       "    <tr>\n",
       "      <th>3</th>\n",
       "      <td>8.801844</td>\n",
       "      <td>8.0</td>\n",
       "      <td>0.035857</td>\n",
       "      <td>0.556150</td>\n",
       "      <td>9.809089e-45</td>\n",
       "      <td>1</td>\n",
       "    </tr>\n",
       "    <tr>\n",
       "      <th>4</th>\n",
       "      <td>14.279649</td>\n",
       "      <td>9.0</td>\n",
       "      <td>0.049742</td>\n",
       "      <td>0.589295</td>\n",
       "      <td>1.681558e-44</td>\n",
       "      <td>1</td>\n",
       "    </tr>\n",
       "    <tr>\n",
       "      <th>5</th>\n",
       "      <td>17.277428</td>\n",
       "      <td>8.0</td>\n",
       "      <td>0.070760</td>\n",
       "      <td>0.371848</td>\n",
       "      <td>1.821688e-44</td>\n",
       "      <td>1</td>\n",
       "    </tr>\n",
       "  </tbody>\n",
       "</table>\n",
       "</div>"
      ],
      "text/plain": [
       "        mass  ntowers    radial  dispersion       ntracks  isGluon\n",
       "0  14.367233     14.0  0.054968    0.353077  2.382207e-44        1\n",
       "1  10.668119     11.0  0.029878    0.555024  1.121039e-44        1\n",
       "2  12.146415     13.0  0.034733    0.390114  2.242078e-44        1\n",
       "3   8.801844      8.0  0.035857    0.556150  9.809089e-45        1\n",
       "4  14.279649      9.0  0.049742    0.589295  1.681558e-44        1\n",
       "5  17.277428      8.0  0.070760    0.371848  1.821688e-44        1"
      ]
     },
     "execution_count": 22,
     "metadata": {},
     "output_type": "execute_result"
    }
   ],
   "source": [
    "dfGluons.head(nevt)\n",
    "# As an alternative, we can look at the last \"nevt\" events\n",
    "#dfGluons.tail(nevt)\n",
    "# Or randomly sample:\n",
    "#dfGluons.sample(nevt)"
   ]
  },
  {
   "cell_type": "markdown",
   "metadata": {},
   "source": [
    "Now we will ask for a description of the datasets, this will give us some statistical information of each feature (mean, min, max, etc)"
   ]
  },
  {
   "cell_type": "code",
   "execution_count": 23,
   "metadata": {},
   "outputs": [
    {
     "data": {
      "text/html": [
       "<div>\n",
       "<style scoped>\n",
       "    .dataframe tbody tr th:only-of-type {\n",
       "        vertical-align: middle;\n",
       "    }\n",
       "\n",
       "    .dataframe tbody tr th {\n",
       "        vertical-align: top;\n",
       "    }\n",
       "\n",
       "    .dataframe thead th {\n",
       "        text-align: right;\n",
       "    }\n",
       "</style>\n",
       "<table border=\"1\" class=\"dataframe\">\n",
       "  <thead>\n",
       "    <tr style=\"text-align: right;\">\n",
       "      <th></th>\n",
       "      <th>mass</th>\n",
       "      <th>ntowers</th>\n",
       "      <th>radial</th>\n",
       "      <th>dispersion</th>\n",
       "      <th>ntracks</th>\n",
       "      <th>isGluon</th>\n",
       "    </tr>\n",
       "  </thead>\n",
       "  <tbody>\n",
       "    <tr>\n",
       "      <th>count</th>\n",
       "      <td>20000.000000</td>\n",
       "      <td>20000.000000</td>\n",
       "      <td>20000.000000</td>\n",
       "      <td>20000.000000</td>\n",
       "      <td>2.000000e+04</td>\n",
       "      <td>20000.0</td>\n",
       "    </tr>\n",
       "    <tr>\n",
       "      <th>mean</th>\n",
       "      <td>10.143486</td>\n",
       "      <td>8.654600</td>\n",
       "      <td>0.037348</td>\n",
       "      <td>0.539091</td>\n",
       "      <td>1.121039e-44</td>\n",
       "      <td>0.0</td>\n",
       "    </tr>\n",
       "    <tr>\n",
       "      <th>std</th>\n",
       "      <td>4.229324</td>\n",
       "      <td>4.368953</td>\n",
       "      <td>0.024821</td>\n",
       "      <td>0.140604</td>\n",
       "      <td>0.000000e+00</td>\n",
       "      <td>0.0</td>\n",
       "    </tr>\n",
       "    <tr>\n",
       "      <th>min</th>\n",
       "      <td>1.163194</td>\n",
       "      <td>0.000000</td>\n",
       "      <td>0.000000</td>\n",
       "      <td>0.000000</td>\n",
       "      <td>0.000000e+00</td>\n",
       "      <td>0.0</td>\n",
       "    </tr>\n",
       "    <tr>\n",
       "      <th>25%</th>\n",
       "      <td>7.234231</td>\n",
       "      <td>5.000000</td>\n",
       "      <td>0.020514</td>\n",
       "      <td>0.437586</td>\n",
       "      <td>8.407791e-45</td>\n",
       "      <td>0.0</td>\n",
       "    </tr>\n",
       "    <tr>\n",
       "      <th>50%</th>\n",
       "      <td>9.240952</td>\n",
       "      <td>8.000000</td>\n",
       "      <td>0.030497</td>\n",
       "      <td>0.517837</td>\n",
       "      <td>1.121039e-44</td>\n",
       "      <td>0.0</td>\n",
       "    </tr>\n",
       "    <tr>\n",
       "      <th>75%</th>\n",
       "      <td>12.129803</td>\n",
       "      <td>11.000000</td>\n",
       "      <td>0.047002</td>\n",
       "      <td>0.618226</td>\n",
       "      <td>1.401298e-44</td>\n",
       "      <td>0.0</td>\n",
       "    </tr>\n",
       "    <tr>\n",
       "      <th>max</th>\n",
       "      <td>32.184860</td>\n",
       "      <td>35.000000</td>\n",
       "      <td>0.203564</td>\n",
       "      <td>1.000000</td>\n",
       "      <td>3.643376e-44</td>\n",
       "      <td>0.0</td>\n",
       "    </tr>\n",
       "  </tbody>\n",
       "</table>\n",
       "</div>"
      ],
      "text/plain": [
       "               mass       ntowers        radial    dispersion       ntracks  \\\n",
       "count  20000.000000  20000.000000  20000.000000  20000.000000  2.000000e+04   \n",
       "mean      10.143486      8.654600      0.037348      0.539091  1.121039e-44   \n",
       "std        4.229324      4.368953      0.024821      0.140604  0.000000e+00   \n",
       "min        1.163194      0.000000      0.000000      0.000000  0.000000e+00   \n",
       "25%        7.234231      5.000000      0.020514      0.437586  8.407791e-45   \n",
       "50%        9.240952      8.000000      0.030497      0.517837  1.121039e-44   \n",
       "75%       12.129803     11.000000      0.047002      0.618226  1.401298e-44   \n",
       "max       32.184860     35.000000      0.203564      1.000000  3.643376e-44   \n",
       "\n",
       "       isGluon  \n",
       "count  20000.0  \n",
       "mean       0.0  \n",
       "std        0.0  \n",
       "min        0.0  \n",
       "25%        0.0  \n",
       "50%        0.0  \n",
       "75%        0.0  \n",
       "max        0.0  "
      ]
     },
     "execution_count": 23,
     "metadata": {},
     "output_type": "execute_result"
    }
   ],
   "source": [
    "dfQuarks.describe()"
   ]
  },
  {
   "cell_type": "code",
   "execution_count": 24,
   "metadata": {},
   "outputs": [
    {
     "data": {
      "text/html": [
       "<div>\n",
       "<style scoped>\n",
       "    .dataframe tbody tr th:only-of-type {\n",
       "        vertical-align: middle;\n",
       "    }\n",
       "\n",
       "    .dataframe tbody tr th {\n",
       "        vertical-align: top;\n",
       "    }\n",
       "\n",
       "    .dataframe thead th {\n",
       "        text-align: right;\n",
       "    }\n",
       "</style>\n",
       "<table border=\"1\" class=\"dataframe\">\n",
       "  <thead>\n",
       "    <tr style=\"text-align: right;\">\n",
       "      <th></th>\n",
       "      <th>mass</th>\n",
       "      <th>ntowers</th>\n",
       "      <th>radial</th>\n",
       "      <th>dispersion</th>\n",
       "      <th>ntracks</th>\n",
       "      <th>isGluon</th>\n",
       "    </tr>\n",
       "  </thead>\n",
       "  <tbody>\n",
       "    <tr>\n",
       "      <th>count</th>\n",
       "      <td>20000.000000</td>\n",
       "      <td>20000.00000</td>\n",
       "      <td>20000.000000</td>\n",
       "      <td>20000.000000</td>\n",
       "      <td>2.000000e+04</td>\n",
       "      <td>20000.0</td>\n",
       "    </tr>\n",
       "    <tr>\n",
       "      <th>mean</th>\n",
       "      <td>13.587820</td>\n",
       "      <td>12.49070</td>\n",
       "      <td>0.054437</td>\n",
       "      <td>0.435623</td>\n",
       "      <td>1.541428e-44</td>\n",
       "      <td>1.0</td>\n",
       "    </tr>\n",
       "    <tr>\n",
       "      <th>std</th>\n",
       "      <td>4.567275</td>\n",
       "      <td>5.19121</td>\n",
       "      <td>0.028272</td>\n",
       "      <td>0.114319</td>\n",
       "      <td>0.000000e+00</td>\n",
       "      <td>0.0</td>\n",
       "    </tr>\n",
       "    <tr>\n",
       "      <th>min</th>\n",
       "      <td>2.256459</td>\n",
       "      <td>0.00000</td>\n",
       "      <td>0.000000</td>\n",
       "      <td>0.000000</td>\n",
       "      <td>0.000000e+00</td>\n",
       "      <td>1.0</td>\n",
       "    </tr>\n",
       "    <tr>\n",
       "      <th>25%</th>\n",
       "      <td>10.332701</td>\n",
       "      <td>9.00000</td>\n",
       "      <td>0.034168</td>\n",
       "      <td>0.356576</td>\n",
       "      <td>1.261169e-44</td>\n",
       "      <td>1.0</td>\n",
       "    </tr>\n",
       "    <tr>\n",
       "      <th>50%</th>\n",
       "      <td>12.955534</td>\n",
       "      <td>12.00000</td>\n",
       "      <td>0.049180</td>\n",
       "      <td>0.411027</td>\n",
       "      <td>1.541428e-44</td>\n",
       "      <td>1.0</td>\n",
       "    </tr>\n",
       "    <tr>\n",
       "      <th>75%</th>\n",
       "      <td>16.264200</td>\n",
       "      <td>16.00000</td>\n",
       "      <td>0.069413</td>\n",
       "      <td>0.486932</td>\n",
       "      <td>1.961818e-44</td>\n",
       "      <td>1.0</td>\n",
       "    </tr>\n",
       "    <tr>\n",
       "      <th>max</th>\n",
       "      <td>32.493828</td>\n",
       "      <td>41.00000</td>\n",
       "      <td>0.225824</td>\n",
       "      <td>1.000000</td>\n",
       "      <td>4.484155e-44</td>\n",
       "      <td>1.0</td>\n",
       "    </tr>\n",
       "  </tbody>\n",
       "</table>\n",
       "</div>"
      ],
      "text/plain": [
       "               mass      ntowers        radial    dispersion       ntracks  \\\n",
       "count  20000.000000  20000.00000  20000.000000  20000.000000  2.000000e+04   \n",
       "mean      13.587820     12.49070      0.054437      0.435623  1.541428e-44   \n",
       "std        4.567275      5.19121      0.028272      0.114319  0.000000e+00   \n",
       "min        2.256459      0.00000      0.000000      0.000000  0.000000e+00   \n",
       "25%       10.332701      9.00000      0.034168      0.356576  1.261169e-44   \n",
       "50%       12.955534     12.00000      0.049180      0.411027  1.541428e-44   \n",
       "75%       16.264200     16.00000      0.069413      0.486932  1.961818e-44   \n",
       "max       32.493828     41.00000      0.225824      1.000000  4.484155e-44   \n",
       "\n",
       "       isGluon  \n",
       "count  20000.0  \n",
       "mean       1.0  \n",
       "std        0.0  \n",
       "min        1.0  \n",
       "25%        1.0  \n",
       "50%        1.0  \n",
       "75%        1.0  \n",
       "max        1.0  "
      ]
     },
     "execution_count": 24,
     "metadata": {},
     "output_type": "execute_result"
    }
   ],
   "source": [
    "dfGluons.describe()"
   ]
  },
  {
   "cell_type": "markdown",
   "metadata": {},
   "source": [
    "Test some assumptions on the data"
   ]
  },
  {
   "cell_type": "code",
   "execution_count": 56,
   "metadata": {},
   "outputs": [
    {
     "data": {
      "text/html": [
       "<div>\n",
       "<style scoped>\n",
       "    .dataframe tbody tr th:only-of-type {\n",
       "        vertical-align: middle;\n",
       "    }\n",
       "\n",
       "    .dataframe tbody tr th {\n",
       "        vertical-align: top;\n",
       "    }\n",
       "\n",
       "    .dataframe thead th {\n",
       "        text-align: right;\n",
       "    }\n",
       "</style>\n",
       "<table border=\"1\" class=\"dataframe\">\n",
       "  <thead>\n",
       "    <tr style=\"text-align: right;\">\n",
       "      <th></th>\n",
       "      <th>mass</th>\n",
       "      <th>ntowers</th>\n",
       "      <th>radial</th>\n",
       "      <th>dispersion</th>\n",
       "      <th>ntracks</th>\n",
       "      <th>isGluon</th>\n",
       "    </tr>\n",
       "  </thead>\n",
       "  <tbody>\n",
       "  </tbody>\n",
       "</table>\n",
       "</div>"
      ],
      "text/plain": [
       "Empty DataFrame\n",
       "Columns: [mass, ntowers, radial, dispersion, ntracks, isGluon]\n",
       "Index: []"
      ]
     },
     "execution_count": 56,
     "metadata": {},
     "output_type": "execute_result"
    }
   ],
   "source": [
    "dfQuarks.query('mass < 2.5')"
   ]
  },
  {
   "cell_type": "code",
   "execution_count": 26,
   "metadata": {},
   "outputs": [
    {
     "data": {
      "text/html": [
       "<div>\n",
       "<style scoped>\n",
       "    .dataframe tbody tr th:only-of-type {\n",
       "        vertical-align: middle;\n",
       "    }\n",
       "\n",
       "    .dataframe tbody tr th {\n",
       "        vertical-align: top;\n",
       "    }\n",
       "\n",
       "    .dataframe thead th {\n",
       "        text-align: right;\n",
       "    }\n",
       "</style>\n",
       "<table border=\"1\" class=\"dataframe\">\n",
       "  <thead>\n",
       "    <tr style=\"text-align: right;\">\n",
       "      <th></th>\n",
       "      <th>mass</th>\n",
       "      <th>ntowers</th>\n",
       "      <th>radial</th>\n",
       "      <th>dispersion</th>\n",
       "      <th>ntracks</th>\n",
       "      <th>isGluon</th>\n",
       "    </tr>\n",
       "  </thead>\n",
       "  <tbody>\n",
       "    <tr>\n",
       "      <th>2676</th>\n",
       "      <td>3.266142</td>\n",
       "      <td>7.0</td>\n",
       "      <td>0.0</td>\n",
       "      <td>0.0</td>\n",
       "      <td>0.0</td>\n",
       "      <td>0</td>\n",
       "    </tr>\n",
       "    <tr>\n",
       "      <th>5811</th>\n",
       "      <td>4.718185</td>\n",
       "      <td>8.0</td>\n",
       "      <td>0.0</td>\n",
       "      <td>0.0</td>\n",
       "      <td>0.0</td>\n",
       "      <td>0</td>\n",
       "    </tr>\n",
       "    <tr>\n",
       "      <th>7492</th>\n",
       "      <td>3.767240</td>\n",
       "      <td>6.0</td>\n",
       "      <td>0.0</td>\n",
       "      <td>0.0</td>\n",
       "      <td>0.0</td>\n",
       "      <td>0</td>\n",
       "    </tr>\n",
       "    <tr>\n",
       "      <th>10164</th>\n",
       "      <td>4.299165</td>\n",
       "      <td>10.0</td>\n",
       "      <td>0.0</td>\n",
       "      <td>0.0</td>\n",
       "      <td>0.0</td>\n",
       "      <td>0</td>\n",
       "    </tr>\n",
       "    <tr>\n",
       "      <th>11216</th>\n",
       "      <td>7.178011</td>\n",
       "      <td>5.0</td>\n",
       "      <td>0.0</td>\n",
       "      <td>0.0</td>\n",
       "      <td>0.0</td>\n",
       "      <td>0</td>\n",
       "    </tr>\n",
       "    <tr>\n",
       "      <th>13845</th>\n",
       "      <td>5.641160</td>\n",
       "      <td>12.0</td>\n",
       "      <td>0.0</td>\n",
       "      <td>0.0</td>\n",
       "      <td>0.0</td>\n",
       "      <td>0</td>\n",
       "    </tr>\n",
       "    <tr>\n",
       "      <th>13941</th>\n",
       "      <td>8.226786</td>\n",
       "      <td>9.0</td>\n",
       "      <td>0.0</td>\n",
       "      <td>0.0</td>\n",
       "      <td>0.0</td>\n",
       "      <td>0</td>\n",
       "    </tr>\n",
       "    <tr>\n",
       "      <th>15480</th>\n",
       "      <td>4.030625</td>\n",
       "      <td>9.0</td>\n",
       "      <td>0.0</td>\n",
       "      <td>0.0</td>\n",
       "      <td>0.0</td>\n",
       "      <td>0</td>\n",
       "    </tr>\n",
       "    <tr>\n",
       "      <th>15782</th>\n",
       "      <td>4.461095</td>\n",
       "      <td>6.0</td>\n",
       "      <td>0.0</td>\n",
       "      <td>0.0</td>\n",
       "      <td>0.0</td>\n",
       "      <td>0</td>\n",
       "    </tr>\n",
       "    <tr>\n",
       "      <th>17902</th>\n",
       "      <td>7.173931</td>\n",
       "      <td>7.0</td>\n",
       "      <td>0.0</td>\n",
       "      <td>0.0</td>\n",
       "      <td>0.0</td>\n",
       "      <td>0</td>\n",
       "    </tr>\n",
       "  </tbody>\n",
       "</table>\n",
       "</div>"
      ],
      "text/plain": [
       "           mass  ntowers  radial  dispersion  ntracks  isGluon\n",
       "2676   3.266142      7.0     0.0         0.0      0.0        0\n",
       "5811   4.718185      8.0     0.0         0.0      0.0        0\n",
       "7492   3.767240      6.0     0.0         0.0      0.0        0\n",
       "10164  4.299165     10.0     0.0         0.0      0.0        0\n",
       "11216  7.178011      5.0     0.0         0.0      0.0        0\n",
       "13845  5.641160     12.0     0.0         0.0      0.0        0\n",
       "13941  8.226786      9.0     0.0         0.0      0.0        0\n",
       "15480  4.030625      9.0     0.0         0.0      0.0        0\n",
       "15782  4.461095      6.0     0.0         0.0      0.0        0\n",
       "17902  7.173931      7.0     0.0         0.0      0.0        0"
      ]
     },
     "execution_count": 26,
     "metadata": {},
     "output_type": "execute_result"
    }
   ],
   "source": [
    "dfQuarks.query('radial == dispersion')\n"
   ]
  },
  {
   "cell_type": "markdown",
   "metadata": {},
   "source": [
    "### Visualization"
   ]
  },
  {
   "cell_type": "markdown",
   "metadata": {},
   "source": [
    "Box plot of the stat information"
   ]
  },
  {
   "cell_type": "code",
   "execution_count": null,
   "metadata": {
    "collapsed": true
   },
   "outputs": [],
   "source": [
    "dfQuarks.drop('isGluon',axis=1).plot(kind='box', subplots=True, sharex=False, sharey=False)\n",
    "plt.subplots_adjust(wspace=0.6)\n",
    "plt.suptitle(\"Quarks\")\n",
    "plt.show()\n",
    "dfGluons.drop('isGluon',axis=1).plot(kind='box', subplots=True, sharex=False, sharey=False)\n",
    "plt.subplots_adjust(wspace=0.6)\n",
    "plt.suptitle(\"Gluons\")\n",
    "plt.show()"
   ]
  },
  {
   "cell_type": "markdown",
   "metadata": {},
   "source": [
    "Plot some 1D histograms"
   ]
  },
  {
   "cell_type": "code",
   "execution_count": null,
   "metadata": {
    "collapsed": true
   },
   "outputs": [],
   "source": [
    "fig, ax = plt.subplots(1,2)\n",
    "\n",
    "ax[0].hist(dfQuarks.mass, 30, alpha=0.5, label=\"Quarks\")\n",
    "ax[0].hist(dfGluons.mass, 30, alpha=0.5, label=\"Gluons\")\n",
    "ax[1].hist(dfQuarks.radial, 30, alpha=0.5, label=\"Quarks\")\n",
    "ax[1].hist(dfGluons.radial, 30, alpha=0.5, label=\"Gluons\")\n",
    "\n",
    "fig.subplots_adjust(left=0, right=1, bottom=0, top=0.5, hspace=0.05, wspace=1)\n",
    "ax[0].set_xlabel(\"Jet mass\")\n",
    "ax[0].set_ylabel(\"Frequency\")\n",
    "ax[1].set_xlabel(\"Jet radial xxxx\")\n",
    "ax[1].set_ylabel(\"Frequency\")\n",
    "\n",
    "ax[0].legend()\n",
    "ax[1].legend()\n",
    "\n",
    "plt.show()"
   ]
  },
  {
   "cell_type": "markdown",
   "metadata": {},
   "source": [
    "Or plot all at the same time"
   ]
  },
  {
   "cell_type": "code",
   "execution_count": null,
   "metadata": {
    "collapsed": true
   },
   "outputs": [],
   "source": [
    "dfQuarks.drop('isGluon',axis=1).hist()\n",
    "plt.subplots_adjust(hspace=0.45, wspace=1)\n",
    "plt.suptitle(\"Quarks\")\n",
    "plt.show()\n",
    "dfGluons.drop('isGluon',axis=1).hist()\n",
    "plt.subplots_adjust(hspace=0.45, wspace=1)\n",
    "plt.suptitle(\"Gluons\")\n",
    "plt.show()"
   ]
  },
  {
   "cell_type": "markdown",
   "metadata": {},
   "source": [
    "Plot some 2D scatter plots"
   ]
  },
  {
   "cell_type": "code",
   "execution_count": null,
   "metadata": {
    "collapsed": true
   },
   "outputs": [],
   "source": [
    "fig, ax = plt.subplots(1,2, figsize=(8,4))\n",
    "\n",
    "ax[0].scatter(dfQuarks.mass, dfQuarks.radial)\n",
    "ax[1].scatter(dfGluons.mass, dfGluons.radial)\n",
    "\n",
    "ax[0].set_title(\"Quarks\")\n",
    "ax[1].set_title(\"Gluons\")\n",
    "ax[0].set_xlabel(\"Jet mass\")\n",
    "ax[1].set_xlabel(\"Jet mass\")\n",
    "ax[0].set_ylabel(\"Jet radial xxxx\")\n",
    "ax[1].set_ylabel(\"Jet radial xxxx\")\n",
    "fig.subplots_adjust(wspace=0.5)\n",
    "fig.suptitle(\"Jet mass vs radial xxxx\")\n",
    "\n",
    "plt.show()"
   ]
  },
  {
   "cell_type": "markdown",
   "metadata": {},
   "source": [
    "Or plot all combinations simultaneously"
   ]
  },
  {
   "cell_type": "code",
   "execution_count": null,
   "metadata": {
    "collapsed": true
   },
   "outputs": [],
   "source": [
    "scatter_matrix(dfQuarks.drop('isGluon',axis=1))\n",
    "plt.subplots_adjust(hspace=0.1, wspace=0.1)\n",
    "plt.suptitle(\"Quarks\")\n",
    "plt.show()\n",
    "scatter_matrix(dfGluons.drop('isGluon',axis=1))\n",
    "plt.subplots_adjust(hspace=0.1, wspace=0.1)\n",
    "plt.suptitle(\"Gluons\")\n",
    "plt.show()"
   ]
  },
  {
   "cell_type": "markdown",
   "metadata": {},
   "source": [
    "Remove outliers"
   ]
  },
  {
   "cell_type": "code",
   "execution_count": 57,
   "metadata": {
    "collapsed": true
   },
   "outputs": [],
   "source": [
    "dfQuarks = dfQuarks.drop(dfQuarks.query('dispersion == 0').index.get_values())\n",
    "dfGluons = dfGluons.drop(dfGluons.query('dispersion == 0').index.get_values())\n",
    "\n",
    "\n",
    "\n",
    "inputData = pd.concat([dfQuarks, dfGluons])\n",
    "\n",
    "labels = inputData.isGluon\n",
    "inputData = inputData.drop('isGluon',axis=1)\n",
    "\n",
    "labelsTrain = inputDataTrain.isGluon\n",
    "inputDataTrain = inputDataTrain.drop('isGluon',axis=1)\n",
    "\n",
    "labelsValidation = inputDataValidation.isGluon\n",
    "inputDataValidation = inputDataValidation.drop('isGluon',axis=1)\n"
   ]
  },
  {
   "cell_type": "markdown",
   "metadata": {},
   "source": [
    "Get the correlation matrix"
   ]
  },
  {
   "cell_type": "code",
   "execution_count": null,
   "metadata": {
    "collapsed": true
   },
   "outputs": [],
   "source": [
    "corrQuarks = dfQuarks.drop('isGluon',axis=1).corr()\n",
    "sns.heatmap(corrQuarks,\n",
    "            xticklabels=corrQuarks.columns.values,\n",
    "            yticklabels=corrQuarks.columns.values)\n",
    "sns.plt.show()"
   ]
  },
  {
   "cell_type": "code",
   "execution_count": null,
   "metadata": {
    "collapsed": true
   },
   "outputs": [],
   "source": [
    "corrGluons = dfGluons.drop('isGluon',axis=1).corr()\n",
    "sns.heatmap(corrGluons,\n",
    "            xticklabels=corrGluons.columns.values,\n",
    "            yticklabels=corrGluons.columns.values)\n",
    "sns.plt.show()"
   ]
  },
  {
   "cell_type": "markdown",
   "metadata": {},
   "source": [
    "#### Dimensionality Reduction"
   ]
  },
  {
   "cell_type": "markdown",
   "metadata": {
    "collapsed": true
   },
   "source": [
    "Start with PCA to only two dimensions"
   ]
  },
  {
   "cell_type": "code",
   "execution_count": null,
   "metadata": {
    "collapsed": true
   },
   "outputs": [],
   "source": [
    "pca = PCA(n_components=2)\n",
    "reduced_data = pca.fit_transform(inputData)\n",
    "print \"Shape: \", reduced_data.shape"
   ]
  },
  {
   "cell_type": "code",
   "execution_count": null,
   "metadata": {
    "collapsed": true
   },
   "outputs": [],
   "source": [
    "plt.scatter(reduced_data[:,0], reduced_data[:,1], c=labels, cmap='viridis')\n",
    "\n",
    "plt.show()"
   ]
  },
  {
   "cell_type": "markdown",
   "metadata": {},
   "source": [
    "## Support Vector Machine"
   ]
  },
  {
   "cell_type": "markdown",
   "metadata": {},
   "source": [
    "## Basic Neural Network"
   ]
  },
  {
   "cell_type": "markdown",
   "metadata": {},
   "source": [
    "## Deep Belief Neural Network"
   ]
  },
  {
   "cell_type": "markdown",
   "metadata": {},
   "source": [
    "## Ideas on decorrelating the input variables"
   ]
  },
  {
   "cell_type": "code",
   "execution_count": null,
   "metadata": {
    "collapsed": true
   },
   "outputs": [],
   "source": [
    "import scipy.linalg as la\n",
    "\n",
    "print corrGluons\n",
    "#print numpy.sqrt(corrGluons,dtype='complex128') # This is doing the square root of individual matrix elements\n",
    "print la.cholesky(corrGluons)\n",
    "print la.inv(la.cholesky(corrGluons))\n",
    "\n",
    "dfGluonsDecorr = dfGluons.drop('isGluon',axis=1).dot(la.inv(la.cholesky(corrGluons).T))\n",
    "\n",
    "dfGluonsDecorr.corr()\n"
   ]
  },
  {
   "cell_type": "markdown",
   "metadata": {
    "collapsed": true
   },
   "source": [
    "## Compare all ML Methods using ROC curves"
   ]
  },
  {
   "cell_type": "code",
   "execution_count": null,
   "metadata": {
    "collapsed": true
   },
   "outputs": [],
   "source": []
  }
 ],
 "metadata": {
  "kernelspec": {
   "display_name": "Python 2",
   "language": "python",
   "name": "python2"
  },
  "language_info": {
   "codemirror_mode": {
    "name": "ipython",
    "version": 2
   },
   "file_extension": ".py",
   "mimetype": "text/x-python",
   "name": "python",
   "nbconvert_exporter": "python",
   "pygments_lexer": "ipython2",
   "version": "2.7.13"
  }
 },
 "nbformat": 4,
 "nbformat_minor": 2
}
